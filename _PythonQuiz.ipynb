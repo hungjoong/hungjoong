{
 "cells": [
  {
   "cell_type": "code",
   "execution_count": null,
   "metadata": {
    "colab": {
     "base_uri": "https://localhost:8080/",
     "height": 140
    },
    "colab_type": "code",
    "executionInfo": {
     "elapsed": 11775,
     "status": "ok",
     "timestamp": 1598593181337,
     "user": {
      "displayName": "김흥중",
      "photoUrl": "https://lh3.googleusercontent.com/a-/AOh14GjkqqoR6vik2TRupwbatmAoSf6l_wMwMfaJy0-WvQ=s64",
      "userId": "03510055984323851364"
     },
     "user_tz": -540
    },
    "id": "rT57CeCjjDuT",
    "outputId": "a499b4e1-c862-4461-d593-41063a483ceb"
   },
   "outputs": [],
   "source": [
    "class SoldOutError(Exception):\n",
    "    pass\n",
    "\n",
    "chicken = 10\n",
    "waiting = 1 # 홀 안에는 현재 만석. 대기번호 1부터 시작\n",
    "while (True):\n",
    "    try:\n",
    "        print(\"[남은 치킨 : {0}]\".format(chicken))\n",
    "        order = int(input(\"치킨 몇 마리 주문하시겠습니까?\"))\n",
    "        if order > chicken: # 남은 치킨보다 주문량이 많을때\n",
    "            print(\"재료가 부족합니다.\")\n",
    "        elif order <= 0:\n",
    "            raise ValueError\n",
    "        else:\n",
    "            print(\"[대기번호 {0}] {1} 마리 주문이 완료되었습니다.\" \\\n",
    "                .format(waiting, order))\n",
    "            waiting += 1\n",
    "            chicken -= order\n",
    "        \n",
    "        if chicken == 0:\n",
    "            raise SoldOutError\n",
    "    except ValueError:\n",
    "        print(\"잘못된 값을 입력하였습니다.\")\n",
    "    except SoldOutError:\n",
    "        print(\"제고가 소진되어 더 이상 주문을 받지 않습니다.\")\n",
    "        break"
   ]
  }
 ],
 "metadata": {
  "colab": {
   "authorship_tag": "ABX9TyMd6gvqE9vx+N0uNb3f81a2",
   "collapsed_sections": [],
   "name": "Untitled0.ipynb",
   "provenance": []
  },
  "kernelspec": {
   "display_name": "Python 3 (ipykernel)",
   "language": "python",
   "name": "python3"
  },
  "language_info": {
   "codemirror_mode": {
    "name": "ipython",
    "version": 3
   },
   "file_extension": ".py",
   "mimetype": "text/x-python",
   "name": "python",
   "nbconvert_exporter": "python",
   "pygments_lexer": "ipython3",
   "version": "3.10.4"
  }
 },
 "nbformat": 4,
 "nbformat_minor": 1
}
