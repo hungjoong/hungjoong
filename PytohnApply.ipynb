{
 "cells": [
  {
   "cell_type": "markdown",
   "metadata": {},
   "source": [
    "#### 내가 프로그램을 만들 수 있을까?\n",
    "프로그램을 막 시작하려는 사람이 맨 먼저 부딪히게 되는 벽은 아마도 다음과 같지 않을까?\n",
    "\n",
    "\"문법도 어느 정도 알겠고, 책 내용도 대부분 이해된다. 하지만 이러한 지식을 바탕으로 내가 도대체 어떤 프로그램을 만들 수 있을까?\"\n",
    "\n",
    "이럴 때는 \"어떤 프로그램을 짜야지\"라는 생각보다는 다른 사람들이 만든 프로그램 파일을 자세히 들여다보고 분석하는 데서 시작하는 것이 좋다. 그러다 보면 다른 사람들의 생각도 읽을 수 있고 거기에 더해 뭔가 새로운 아이디어가 떠오를 수도 있다. 하지만 여기에서 가장 중요한 것은 자신의 수준에 맞는 소스를 찾는 일이다. 그래서 이 장에서는 아주 쉬운 예제부터 시작해서 차츰 수준을 높여 실용적인 예제까지 다루려고 노력하였다. 배운 내용을 어떻게 활용하는가는 독자의 몫이다.\n",
    "\n",
    "필자는 예전에 프로그래밍을 막 시작한 사람에게 구구단 프로그램을 짜 보라고 한 적이 있다. 쉬운 과제이고 파이썬 문법도 다 공부한 사람이었는데 프로그램을 어떻게 만들어야 할지 전혀 갈피를 잡지 못했다. 그래서 필자는 다음과 같은 해결책을 알려 주었다.\n",
    "\n",
    "프로그램을 만들려면 가장 먼저 \"입력\"과 \"출력\"을 생각하라.\n",
    "\n",
    "가령 구구단 프로그램 중 2단을 만든다면 2를 입력값으로 주었을 때 어떻게 출력되어야 할지 생각해 보라고 했다. 그래도 그림이 그려지지 않는 것 같아 직접 연습장에 적어 가며 설명해 주었다.\n",
    "\n",
    "함수 이름은? GuGu로 짓자  \n",
    "입력받는 값은? 2  \n",
    "출력하는 값은? 2단(2, 4, 6, 8, …, 18)  \n",
    "결과는 어떤 형태로 저장하지? 연속된 자료형이니까 리스트!  "
   ]
  },
  {
   "cell_type": "code",
   "execution_count": null,
   "metadata": {},
   "outputs": [],
   "source": [
    "def GuGu(n):\n",
    "    result = []\n",
    "    i = 1\n",
    "    while i < 10:\n",
    "        result.append(n*i)\n",
    "        i = i + 1  \n",
    "    # result.append(n*1)\n",
    "    # result.append(n*2)\n",
    "    # result.append(n*3)\n",
    "    # result.append(n*4)\n",
    "    # result.append(n*5)\n",
    "    # result.append(n*6)\n",
    "    # result.append(n*7)\n",
    "    # result.append(n*8)\n",
    "    # result.append(n*9)\n",
    "    return result\n",
    "\n",
    "# result = GuGu(2)\n",
    "print(GuGu(2))\n"
   ]
  },
  {
   "cell_type": "code",
   "execution_count": null,
   "metadata": {},
   "outputs": [],
   "source": [
    "# 1부터 9까지 출력해 주는 반복문\n",
    "i = 1\n",
    "while i < 10:\n",
    "    print(i)\n",
    "    i = i + 1"
   ]
  },
  {
   "cell_type": "markdown",
   "metadata": {},
   "source": [
    "##### 3과 5의 배수 합하기\n",
    "10 미만의 자연수에서 3과 5의 배수를 구하면 3, 5, 6, 9이다. 이들의 총합은 23이다.  \n",
    "1000 미만의 자연수에서 3의 배수와 5의 배수의 총합을 구하라.\n",
    "\n",
    "- 입력 받는 값은? 1부터 999까지(1000 미만의 자연수)\n",
    "- 출력하는 값은? 3의 배수와 5의 배수의 총합\n",
    "- 생각해 볼 것은?\n",
    "    - 3의 배수와 5의 배수는 어떻게 찾지?\n",
    "    - 3의 배수와 5의 배수가 겹칠 때는 어떻게 하지?\n",
    "\n",
    "이 문제를 풀기 위한 중요 포인트는 두 가지이다. 한 가지는 1000 미만의 자연수를 구하는 방법이고 또 다른 한 가지는 3과 5의 배수를 구하는 것이다. 이 두 가지만 해결되면 문제는 쉽게 해결될 것으로 보인다."
   ]
  },
  {
   "cell_type": "code",
   "execution_count": null,
   "metadata": {},
   "outputs": [],
   "source": [
    "# 먼저 1000 미만의 자연수는 어떻게 구할 수 있을지 생각해 보자. 여러 가지 방법이 떠오를 것이다. \n",
    "# 다음과 같이 변수에 초깃값 1을 준 후 루프를 돌리며 1씩 증가시켜서 999까지 진행하는 방법이 가장 일반적인 방법일 것이다.\n",
    "\n",
    "n = 1\n",
    "while n < 1000:\n",
    "    print(n)\n",
    "    n += 1      # n에 1을 더하기"
   ]
  },
  {
   "cell_type": "code",
   "execution_count": null,
   "metadata": {},
   "outputs": [],
   "source": [
    "for n in range(1, 1000):    #  range 함수를 사용\n",
    "    print(n)"
   ]
  },
  {
   "cell_type": "code",
   "execution_count": null,
   "metadata": {},
   "outputs": [],
   "source": [
    "# 1000까지의 자연수를 차례로 구하는 방법을 알았으니 3과 5의 배수를 구하는 방법을 알아보자. \n",
    "# 1000 미만의 자연수 중 3의 배수는 다음과 같이 증가할 것이다.\n",
    "# 3, 6, 9, 12, 15, 18, …, 999\n",
    "# 1부터 1000까지의 수 중 3으로 나누었을 때 나누어떨어지는 경우, 즉 3으로 나누었을 때 나머지가 0인 경우가 \n",
    "# 바로 3의 배수이다. 따라서 다음과 같이 % 연산자를 사용하면 3의 배수를 쉽게 찾을 수 있다.\n",
    "\n",
    "for n in range(1, 1000):\n",
    "    if n % 3 == 0:\n",
    "        print(n)"
   ]
  },
  {
   "cell_type": "code",
   "execution_count": null,
   "metadata": {},
   "outputs": [],
   "source": [
    "# 5의 배수는 n % 5가 0이 되는 수로 구할 수 있을 것이다.\n",
    "result = 0\n",
    "for n in range(1, 1000):\n",
    "    if n % 3 == 0 or n % 5 == 0: \n",
    "        result += n\n",
    "print(result)"
   ]
  },
  {
   "cell_type": "markdown",
   "metadata": {},
   "source": [
    "##### 게시판 페이징하기\n",
    "A 씨는 게시판 프로그램을 작성하고 있다. 그런데 게시물의 총 건수와 한 페이지에 보여 줄 게시물 수를 입력으로 주었을 때 총 페이지 수를 출력하는 프로그램이 필요하다고 한다.\n",
    "\n",
    "※ 이렇게 게시판의 페이지 수를 보여 주는 것을 \"페이징\"한다고 부른다.\n",
    "\n",
    "- 함수 이름은? getTotalPage\n",
    "- 입력 받는 값은? 게시물의 총 건수(m), 한 페이지에 보여줄 게시물 수(n)\n",
    "- 출력하는 값은? 총 페이지수"
   ]
  },
  {
   "cell_type": "code",
   "execution_count": null,
   "metadata": {},
   "outputs": [],
   "source": [
    "# 다음과 같이 총 건수(m)를 한 페이지에 보여 줄 게시물 수(n)로 나누고 1을 더하면 총 페이지 수를 얻을 수 있다.\n",
    "# 총 페이지 수 = (총 건수 / 한 페이지당 보여 줄 건수) + 1\n",
    "\n",
    "# m을 n으로 나눌 때 소수점 아래 자리를 버리기 위해 / 대신 // 연산자를 사용\n",
    "def getTotalPage(m, n):\n",
    "    return m // n + 1\n",
    "\n",
    "print(getTotalPage(5, 10))    # 1 출력\n",
    "print(getTotalPage(15, 10))   # 2 출력\n",
    "print(getTotalPage(25, 10))   # 3 출력\n",
    "print(getTotalPage(30, 10))   # 4 출력"
   ]
  },
  {
   "cell_type": "code",
   "execution_count": null,
   "metadata": {},
   "outputs": [],
   "source": [
    "def getTotalPage(m, n):\n",
    "    if m % n == 0:\n",
    "        return m // n\n",
    "    else:\n",
    "        return m // n + 1\n",
    "\n",
    "print(getTotalPage(5, 10))\n",
    "print(getTotalPage(15, 10))\n",
    "print(getTotalPage(25, 10))\n",
    "print(getTotalPage(30, 10))"
   ]
  },
  {
   "cell_type": "markdown",
   "metadata": {},
   "source": [
    "##### 간단한 메모장 만들기\n",
    "원하는 메모를 파일에 저장하고 추가 및 조회가 가능한 간단한 메모장을 만들어 보자.\n",
    "\n",
    "- 필요한 기능은? 메모 추가하기, 메모 조회하기\n",
    "- 입력 받는 값은? 메모 내용, 프로그램 실행 옵션\n",
    "- 출력하는 값은? memo.txt\n",
    "\n",
    "가장 먼저 해야 할 일은 메모를 추가하는 것이다. 다음 명령을 실행했을 때 메모를 추가할 수 있도록 만들어 보자.\n",
    "\n",
    "python memo.py -a \"Life is too short\"\n",
    "\n",
    "memo.py는 우리가 작성할 파이썬 프로그램 이름이다. –a는 이 프로그램의 실행 옵션이고 \"Life is too short\"는 추가할 메모 내용이 된다."
   ]
  },
  {
   "cell_type": "code",
   "execution_count": null,
   "metadata": {},
   "outputs": [],
   "source": []
  }
 ],
 "metadata": {
  "interpreter": {
   "hash": "9efce205f64ad363cd9f14615485aca38ee4ef0915866e318aa83c8d0c93f6fc"
  },
  "kernelspec": {
   "display_name": "Python 3 (ipykernel)",
   "language": "python",
   "name": "python3"
  },
  "language_info": {
   "codemirror_mode": {
    "name": "ipython",
    "version": 3
   },
   "file_extension": ".py",
   "mimetype": "text/x-python",
   "name": "python",
   "nbconvert_exporter": "python",
   "pygments_lexer": "ipython3",
   "version": "3.10.4"
  }
 },
 "nbformat": 4,
 "nbformat_minor": 2
}
