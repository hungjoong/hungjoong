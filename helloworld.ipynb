{
 "cells": [
  {
   "cell_type": "markdown",
   "metadata": {
    "id": "T2HbRlAq4Ngr"
   },
   "source": [
    "## Python 예제(연습)\n"
   ]
  },
  {
   "cell_type": "code",
   "execution_count": null,
   "metadata": {
    "id": "E3daywXu30f1"
   },
   "outputs": [],
   "source": [
    "print(\"hello world\")"
   ]
  },
  {
   "cell_type": "code",
   "execution_count": null,
   "metadata": {
    "id": "JKNyHxJN5U98"
   },
   "outputs": [],
   "source": [
    "print(5 > 10) # False 출력 "
   ]
  },
  {
   "cell_type": "code",
   "execution_count": null,
   "metadata": {
    "id": "GZJ0L9MF5YSR"
   },
   "outputs": [],
   "source": [
    "name = \"연탄이\"\n",
    "animal = \"강아지\"\n",
    "age = 4\n",
    "hobby = \"산책\"\n",
    "is_adult = age >= 3\n",
    "\n",
    "print(\"우리집 \" + animal + \"의 이름은 \" + name + \"에요\")\n",
    "print(name + \"는 \" + str(age) + \"살이며, \" + hobby + \"을 아주 좋아해요\")\n",
    "print(name + \"는 어른일까요? \" + str(is_adult))"
   ]
  },
  {
   "cell_type": "code",
   "execution_count": null,
   "metadata": {
    "id": "0QcVRvc-5_P7"
   },
   "outputs": [],
   "source": [
    "from random import *\n",
    "date = randint(4, 28) # 4 ~ 28 일 중에서 임의의 날짜 선정\n",
    "print(\"오프라인 스터디 모임 날짜는 매월 \" + str(date) + \"일로 선정되었습니다.\")"
   ]
  },
  {
   "cell_type": "code",
   "execution_count": null,
   "metadata": {
    "id": "Jr5t1oZ76vxF"
   },
   "outputs": [],
   "source": [
    "weather = input(\"오늘 날씨는 어때요? \")\n",
    "# print(weather) # 사용자가 입력한 값 출력 # 주석 처리\n",
    "\n",
    "if weather == \"비\" or weather == \"눈\": # 조건 변경\n",
    "    print(\"우산을 챙기세요\")\n",
    "elif weather == \"미세먼지\":\n",
    "    print(\"마스크를 챙기세요\")\n",
    "else:\n",
    "    print(\"준비물 필요 없어요\")"
   ]
  },
  {
   "cell_type": "code",
   "execution_count": null,
   "metadata": {
    "id": "s1Yb4SNa7NEk"
   },
   "outputs": [],
   "source": [
    "temp = int(input(\"기온은 어때요? \"))\n",
    "if 30 <= temp: # 30 도 이상이면\n",
    "    print(\"너무 더워요. 나가지 마세요\")\n",
    "elif 10 <= temp and temp < 30: # 10도 이상 30도 미만이면\n",
    "    print(\"괜찮은 날씨에요\")\n",
    "elif 0 <= temp and temp < 10: # 0도 이상 10도 미만이면\n",
    "# 위 비교 문장은 이렇게도 작성 가능합니다.\n",
    "# elif 0 <= temp < 10:\n",
    "    print(\"외투를 챙기세요\")\n",
    "else: # 그 외의 모든 경우 (0도 미만이면)\n",
    "    print(\"너무 추워요. 나가지 마세요\")"
   ]
  },
  {
   "cell_type": "code",
   "execution_count": 1,
   "metadata": {
    "id": "CQOgkNNi9Y72"
   },
   "outputs": [
    {
     "name": "stdout",
     "output_type": "stream",
     "text": [
      "Python 3.10.4\n"
     ]
    }
   ],
   "source": [
    "!python --version"
   ]
  }
 ],
 "metadata": {
  "colab": {
   "collapsed_sections": [],
   "name": "_helloworld.ipynb",
   "provenance": []
  },
  "kernelspec": {
   "display_name": "Python 3 (ipykernel)",
   "language": "python",
   "name": "python3"
  },
  "language_info": {
   "codemirror_mode": {
    "name": "ipython",
    "version": 3
   },
   "file_extension": ".py",
   "mimetype": "text/x-python",
   "name": "python",
   "nbconvert_exporter": "python",
   "pygments_lexer": "ipython3",
   "version": "3.10.4"
  }
 },
 "nbformat": 4,
 "nbformat_minor": 1
}
