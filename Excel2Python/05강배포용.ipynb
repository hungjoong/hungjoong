{
 "cells": [
  {
   "cell_type": "markdown",
   "id": "6578d002",
   "metadata": {},
   "source": [
    "# 엑셀 읽어오기 : read_excel()"
   ]
  },
  {
   "cell_type": "code",
   "execution_count": null,
   "id": "0b920fca",
   "metadata": {},
   "outputs": [],
   "source": []
  },
  {
   "cell_type": "markdown",
   "id": "4904c94b",
   "metadata": {},
   "source": [
    "# 열 추가하기"
   ]
  },
  {
   "cell_type": "code",
   "execution_count": null,
   "id": "65fdc09b",
   "metadata": {},
   "outputs": [],
   "source": []
  },
  {
   "cell_type": "code",
   "execution_count": null,
   "id": "110c1dbf",
   "metadata": {},
   "outputs": [],
   "source": []
  },
  {
   "cell_type": "markdown",
   "id": "319ca657",
   "metadata": {},
   "source": [
    "# 열 삭제하기"
   ]
  },
  {
   "cell_type": "code",
   "execution_count": null,
   "id": "0fa35717",
   "metadata": {},
   "outputs": [],
   "source": []
  },
  {
   "cell_type": "markdown",
   "id": "67bbdd6e",
   "metadata": {},
   "source": [
    "# 클립보드에 복사 : to_clipboard()"
   ]
  },
  {
   "cell_type": "code",
   "execution_count": null,
   "id": "e1ba42fb",
   "metadata": {},
   "outputs": [],
   "source": []
  },
  {
   "cell_type": "markdown",
   "id": "65a1ad6f",
   "metadata": {},
   "source": [
    "# 전체코드"
   ]
  },
  {
   "cell_type": "code",
   "execution_count": null,
   "id": "75733833",
   "metadata": {},
   "outputs": [],
   "source": [
    "import pandas as pd\n",
    "\n",
    "df1 = pd.read_excel(\"E05EXAMPLE.xlsx\", sheet_name=1)\n",
    "df1[\"승점\"] = df1[\"승\"] * 3 + df1[\"무\"]\n",
    "df1[\"득실차\"] = df1[\"득점\"] - df1[\"실점\"]\n",
    "df2 = df1.drop([\"득점\", \"실점\"], axis=1)\n",
    "df2.to_clipboard(index=False)"
   ]
  }
 ],
 "metadata": {
  "kernelspec": {
   "display_name": "Python 3",
   "language": "python",
   "name": "python3"
  },
  "language_info": {
   "codemirror_mode": {
    "name": "ipython",
    "version": 3
   },
   "file_extension": ".py",
   "mimetype": "text/x-python",
   "name": "python",
   "nbconvert_exporter": "python",
   "pygments_lexer": "ipython3",
   "version": "3.8.8"
  },
  "toc": {
   "base_numbering": 1,
   "nav_menu": {},
   "number_sections": true,
   "sideBar": true,
   "skip_h1_title": false,
   "title_cell": "Table of Contents",
   "title_sidebar": "열다루기",
   "toc_cell": false,
   "toc_position": {
    "height": "757px",
    "left": "90px",
    "top": "110px",
    "width": "357px"
   },
   "toc_section_display": true,
   "toc_window_display": true
  }
 },
 "nbformat": 4,
 "nbformat_minor": 5
}
