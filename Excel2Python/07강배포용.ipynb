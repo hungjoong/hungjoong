{
 "cells": [
  {
   "cell_type": "markdown",
   "id": "6578d002",
   "metadata": {},
   "source": [
    "# 엑셀 읽어오기 : read_excel()"
   ]
  },
  {
   "cell_type": "code",
   "execution_count": null,
   "id": "11fb3e1a",
   "metadata": {},
   "outputs": [],
   "source": []
  },
  {
   "cell_type": "markdown",
   "id": "4904c94b",
   "metadata": {},
   "source": [
    "# 표 재구조화 : pivot_table()"
   ]
  },
  {
   "cell_type": "code",
   "execution_count": null,
   "id": "6f5c06fb",
   "metadata": {},
   "outputs": [],
   "source": []
  },
  {
   "cell_type": "markdown",
   "id": "319ca657",
   "metadata": {},
   "source": [
    "# 엑셀의 if : mask()"
   ]
  },
  {
   "cell_type": "code",
   "execution_count": null,
   "id": "e8dcdd9b",
   "metadata": {},
   "outputs": [],
   "source": []
  },
  {
   "cell_type": "markdown",
   "id": "67bbdd6e",
   "metadata": {},
   "source": [
    "# 클립보드에 복사 : to_clipboard()"
   ]
  },
  {
   "cell_type": "code",
   "execution_count": null,
   "id": "54f88a56",
   "metadata": {},
   "outputs": [],
   "source": []
  },
  {
   "cell_type": "markdown",
   "id": "65a1ad6f",
   "metadata": {},
   "source": [
    "# 전체코드"
   ]
  },
  {
   "cell_type": "code",
   "execution_count": 10,
   "id": "fe7aefc2",
   "metadata": {},
   "outputs": [],
   "source": [
    "import pandas as pd\n",
    "\n",
    "df1 = pd.read_excel(\"E07EXAMPLE.xlsx\", sheet_name=1)\n",
    "pdf1 = df1.pivot_table(\"점수\", index=\"이름\", columns=\"과목\", aggfunc=\"count\")\n",
    "cond1 = pdf1 == 1 \n",
    "pdf1 = pdf1.mask(cond1, \"O\").fillna(\"X\")\n",
    "pdf1.to_clipboard()"
   ]
  }
 ],
 "metadata": {
  "kernelspec": {
   "display_name": "Python 3",
   "language": "python",
   "name": "python3"
  },
  "language_info": {
   "codemirror_mode": {
    "name": "ipython",
    "version": 3
   },
   "file_extension": ".py",
   "mimetype": "text/x-python",
   "name": "python",
   "nbconvert_exporter": "python",
   "pygments_lexer": "ipython3",
   "version": "3.8.8"
  },
  "toc": {
   "base_numbering": 1,
   "nav_menu": {},
   "number_sections": true,
   "sideBar": true,
   "skip_h1_title": false,
   "title_cell": "Table of Contents",
   "title_sidebar": "mask 연습문제",
   "toc_cell": false,
   "toc_position": {
    "height": "757px",
    "left": "90px",
    "top": "110px",
    "width": "357px"
   },
   "toc_section_display": true,
   "toc_window_display": true
  }
 },
 "nbformat": 4,
 "nbformat_minor": 5
}
