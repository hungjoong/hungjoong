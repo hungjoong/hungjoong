{
 "cells": [
  {
   "cell_type": "markdown",
   "id": "6578d002",
   "metadata": {},
   "source": [
    "# 엑셀 읽어오기 : read_excel()"
   ]
  },
  {
   "cell_type": "code",
   "execution_count": null,
   "id": "aefc1fe4",
   "metadata": {},
   "outputs": [],
   "source": []
  },
  {
   "cell_type": "markdown",
   "id": "4904c94b",
   "metadata": {},
   "source": [
    "# 결측치 존재확인 : isnull() or info()"
   ]
  },
  {
   "cell_type": "code",
   "execution_count": null,
   "id": "4933b273",
   "metadata": {},
   "outputs": [],
   "source": []
  },
  {
   "cell_type": "code",
   "execution_count": null,
   "id": "1d47f0a4",
   "metadata": {},
   "outputs": [],
   "source": []
  },
  {
   "cell_type": "markdown",
   "id": "319ca657",
   "metadata": {},
   "source": [
    "# 결측치를 특정값으로처리 : fillna() "
   ]
  },
  {
   "cell_type": "code",
   "execution_count": null,
   "id": "e4ef4904",
   "metadata": {},
   "outputs": [],
   "source": []
  },
  {
   "cell_type": "markdown",
   "id": "3d841e04",
   "metadata": {},
   "source": [
    "# 결측치가 있는 행 삭제: dropna()"
   ]
  },
  {
   "cell_type": "code",
   "execution_count": null,
   "id": "d3d8627f",
   "metadata": {},
   "outputs": [],
   "source": []
  },
  {
   "cell_type": "markdown",
   "id": "67bbdd6e",
   "metadata": {},
   "source": [
    "# 클립보드에 복사 : to_clipboard()"
   ]
  },
  {
   "cell_type": "code",
   "execution_count": null,
   "id": "72804202",
   "metadata": {},
   "outputs": [],
   "source": []
  },
  {
   "cell_type": "code",
   "execution_count": null,
   "id": "299f08fb",
   "metadata": {},
   "outputs": [],
   "source": []
  },
  {
   "cell_type": "markdown",
   "id": "65a1ad6f",
   "metadata": {},
   "source": [
    "# 전체코드"
   ]
  },
  {
   "cell_type": "code",
   "execution_count": 31,
   "id": "75733833",
   "metadata": {},
   "outputs": [],
   "source": [
    "import pandas as pd\n",
    "\n",
    "df1 = pd.read_excel(\"E04EXAMPLE.xlsx\", sheet_name=1)\n",
    "df2 = df1.fillna(0)\n",
    "df3 = df1.dropna()\n",
    "df2.to_clipboard(index=False)\n",
    "df3.to_clipboard(index=False)"
   ]
  }
 ],
 "metadata": {
  "kernelspec": {
   "display_name": "Python 3",
   "language": "python",
   "name": "python3"
  },
  "language_info": {
   "codemirror_mode": {
    "name": "ipython",
    "version": 3
   },
   "file_extension": ".py",
   "mimetype": "text/x-python",
   "name": "python",
   "nbconvert_exporter": "python",
   "pygments_lexer": "ipython3",
   "version": "3.8.8"
  },
  "toc": {
   "base_numbering": 1,
   "nav_menu": {},
   "number_sections": true,
   "sideBar": true,
   "skip_h1_title": false,
   "title_cell": "Table of Contents",
   "title_sidebar": "결측치 처리",
   "toc_cell": false,
   "toc_position": {
    "height": "757px",
    "left": "90px",
    "top": "110px",
    "width": "357px"
   },
   "toc_section_display": true,
   "toc_window_display": true
  }
 },
 "nbformat": 4,
 "nbformat_minor": 5
}
