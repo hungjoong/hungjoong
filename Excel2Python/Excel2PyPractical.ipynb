{
 "cells": [
  {
   "cell_type": "markdown",
   "metadata": {},
   "source": [
    "#### 직장인 실무엑셀을 파이썬으로"
   ]
  },
  {
   "cell_type": "markdown",
   "metadata": {},
   "source": [
    "##### 인덱싱과 슬라이싱"
   ]
  },
  {
   "cell_type": "code",
   "execution_count": 6,
   "metadata": {},
   "outputs": [],
   "source": [
    "import pandas as pd\n",
    "\n",
    "df1 = pd.read_excel(\"E09EXAMPLE.xlsx\", skiprows=1)  # skiprows=1 액셀에서 열제외\n",
    "df1 = df1.loc[:, \"년도\":\"개최국\"]\n",
    "df1 = df1.iloc[:, [0, 9, 3, 4, 5, 6]]\n",
    "df1.to_clipboard(index=False)"
   ]
  },
  {
   "cell_type": "markdown",
   "metadata": {},
   "source": [
    "##### 엑셀의 VLOOKUP을 판다스로"
   ]
  },
  {
   "cell_type": "code",
   "execution_count": null,
   "metadata": {},
   "outputs": [],
   "source": [
    "import pandas as pd\n",
    "\n",
    "df1 = pd.read_excel(\"E01EXAMPLE.xlsx\", sheet_name=1)\n",
    "df2 = pd.read_excel(\"E01EXAMPLE.xlsx\", sheet_name=2)\n",
    "df3 = df1.merge(df2, how=\"left\")\n",
    "df3.to_clipboard(index=False)"
   ]
  },
  {
   "cell_type": "markdown",
   "metadata": {},
   "source": [
    "##### 엑셀의 다중VLOOKUP을 판다스로"
   ]
  },
  {
   "cell_type": "code",
   "execution_count": null,
   "metadata": {},
   "outputs": [],
   "source": [
    "import pandas as pd\n",
    "\n",
    "df1 = pd.read_excel(\"E02EXAMPLE.xlsx\", sheet_name=1)\n",
    "df2 = pd.read_excel(\"E02EXAMPLE.xlsx\", sheet_name=2)\n",
    "df3 = df1.merge(df2, how=\"left\")\n",
    "df3.to_clipboard(index=False)"
   ]
  },
  {
   "cell_type": "markdown",
   "metadata": {},
   "source": [
    "##### 엑셀의 COUNTIF, SUMIF를 판다스로"
   ]
  },
  {
   "cell_type": "code",
   "execution_count": null,
   "metadata": {},
   "outputs": [],
   "source": [
    "import pandas as pd\n",
    "\n",
    "df1 = pd.read_excel(\"E03EXAMPLE.xlsx\", sheet_name=1)\n",
    "df2 = pd.read_excel(\"E03EXAMPLE.xlsx\", sheet_name=2)\n",
    "df3 = df1.merge(df2, how=\"left\")\n",
    "pdf1 = df3.pivot_table(\"수량\", index=[\"업체\",\"메뉴\"], aggfunc=\"count\")\n",
    "pdf2 = df3.pivot_table(\"가격\", index=\"업체\", aggfunc=\"sum\")\n",
    "pdf1.to_clipboard(index=False)\n",
    "pdf2.to_clipboard(index=False)"
   ]
  },
  {
   "cell_type": "markdown",
   "metadata": {},
   "source": [
    "##### 결측치처리를 판다스로"
   ]
  },
  {
   "cell_type": "code",
   "execution_count": null,
   "metadata": {},
   "outputs": [],
   "source": [
    "import pandas as pd\n",
    "\n",
    "df1 = pd.read_excel(\"E04EXAMPLE.xlsx\", sheet_name=1)\n",
    "df2 = df1.fillna(0)\n",
    "df3 = df1.dropna()\n",
    "df2.to_clipboard(index=False)\n",
    "df3.to_clipboard(index=False)"
   ]
  },
  {
   "cell_type": "markdown",
   "metadata": {},
   "source": [
    "##### 판다스로 열(column) 다루기"
   ]
  },
  {
   "cell_type": "code",
   "execution_count": null,
   "metadata": {},
   "outputs": [],
   "source": [
    "import pandas as pd\n",
    "\n",
    "df1 = pd.read_excel(\"E05EXAMPLE.xlsx\", sheet_name=1)\n",
    "df1[\"승점\"] = df1[\"승\"] * 3 + df1[\"무\"]\n",
    "df1[\"득실차\"] = df1[\"득점\"] - df1[\"실점\"]\n",
    "df2 = df1.drop([\"득점\", \"실점\"], axis=1)\n",
    "df2.to_clipboard(index=False)"
   ]
  },
  {
   "cell_type": "markdown",
   "metadata": {},
   "source": [
    "##### 엑셀의 if조건문을 판다스로"
   ]
  },
  {
   "cell_type": "code",
   "execution_count": null,
   "metadata": {},
   "outputs": [],
   "source": [
    "import pandas as pd \n",
    "\n",
    "df1 = pd.read_excel(\"E06EXAMPLE.xlsx\", sheet_name=1)\n",
    "cond1 = df1[\"점수\"].isnull()\n",
    "df1[\"참석여부\"] = df1[\"점수\"].mask(cond1, \"X\").mask(~cond1, \"O\")\n",
    "cond2 = df1[\"점수\"] > 70\n",
    "cond3 = df1[\"점수\"] > 90\n",
    "df1[\"성적\"] = df1[\"점수\"].mask(~cond2, \"C\").mask(cond2, \"B\").mask(cond3, \"A\")\n",
    "df1.to_clipboard(index=False)"
   ]
  },
  {
   "cell_type": "markdown",
   "metadata": {},
   "source": [
    "##### 피벗테이블을 판다스로"
   ]
  },
  {
   "cell_type": "code",
   "execution_count": null,
   "metadata": {},
   "outputs": [],
   "source": [
    "import pandas as pd\n",
    "\n",
    "df1 = pd.read_excel(\"E07EXAMPLE.xlsx\", sheet_name=1)\n",
    "pdf1 = df1.pivot_table(\"점수\", index=\"이름\", columns=\"과목\", aggfunc=\"count\")\n",
    "cond1 = pdf1 == 1 \n",
    "pdf1 = pdf1.mask(cond1, \"O\").fillna(\"X\")\n",
    "pdf1.to_clipboard()"
   ]
  },
  {
   "cell_type": "markdown",
   "metadata": {},
   "source": [
    "##### 실전 엑셀파일에서 데이터프레임 추출하기"
   ]
  },
  {
   "cell_type": "code",
   "execution_count": null,
   "metadata": {},
   "outputs": [],
   "source": [
    "import pandas as pd\n",
    "\n",
    "df1 = pd.read_excel(\"E09EXAMPLE.xlsx\", skiprows=1)\n",
    "df1 = df1.loc[0:19, \"년도\":\"개최국\"]\n",
    "df1.iloc[:, [0, 9, 3, 4, 5, 6]].to_clipboard(index=False)"
   ]
  },
  {
   "cell_type": "markdown",
   "metadata": {},
   "source": [
    "##### 실전 엑셀파일에서 중복값처리하기"
   ]
  },
  {
   "cell_type": "code",
   "execution_count": null,
   "metadata": {},
   "outputs": [],
   "source": [
    "import pandas as pd\n",
    "\n",
    "# 엑셀의 시트 3개를 불러와서 변수지정\n",
    "df1 = pd.read_excel(\"E17EXAMPLE.xlsx\")\n",
    "df2 = pd.read_excel(\"E17EXAMPLE.xlsx\", sheet_name=1)\n",
    "df3 = pd.read_excel(\"E17EXAMPLE.xlsx\", sheet_name=2)\n",
    "\n",
    "df4 = pd.concat([df1, df2, df3]) # 세개의 시트를 합치고\n",
    "df4.duplicated().sum() # sum을 하면 중복인 개수를 알수있다\n",
    "df4 = df4.drop_duplicates() # 중복값을 drop\n",
    "df4.to_clipboard(index=False) # 클립보드에 복사"
   ]
  },
  {
   "cell_type": "markdown",
   "metadata": {},
   "source": [
    "##### 파이썬의 VLOOKUP, MERGE"
   ]
  },
  {
   "cell_type": "code",
   "execution_count": null,
   "metadata": {},
   "outputs": [],
   "source": [
    "import pandas as pd\n",
    "\n",
    "name1 = ['송중기', '권보아', '김나현', '박효신', '진달래']\n",
    "a1, a2, a3, a4, a5 = '송중기', '권보아', '김나현', '박효신', '진달래'\n",
    "b1, b2, b3 = '카페라떼', '아이스티', '모카라떼'\n",
    "c1, c2 = '콩다방', '별다방'\n",
    "df1 = pd.DataFrame([name1, [b2, b1, b1, b2, b3]], index=[\"이름\", \"제품\"]).T\n",
    "df2 = pd.DataFrame([[b1, 4500], [b2, 4600], [b3, 4800]], columns=[\"제품\", \"가격\"])\n",
    "df3 = pd.DataFrame([name1,[c1, c1, c2, c1, c2], [b2, b1, b1, b2, b2]], \n",
    "                   index=[\"이름\", \"업체\", \"제품\"]).T\n",
    "df4 = pd.DataFrame([[c1, b2, 4600], [c1, b1, 4700], [c2, b2, 4200], [c2, b1, 4300]], \n",
    "                   columns=[\"업체\", \"제품\", \"가격\"])\n",
    "df5 = pd.DataFrame([[b1, 4500], [b2, 4600], [b3, 4800]], columns=[\"상품\", \"가격\"])\n",
    "df6 = pd.DataFrame([[b1, 4500], [b2, 4600], [b3, 4800], [b3, 4800]], \n",
    "                   columns=[\"제품\", \"가격\"])\n",
    "df7 = pd.DataFrame([[a2, a3, a1, a5], [b2, b1, b1, b3]], index=[\"이름\", \"1일차\"]).T\n",
    "df8 = pd.DataFrame([[a2, a3, a4, a1], [b1, b3, b2, b2]], index=[\"이름\", \"2일차\"]).T\n",
    "df9 = pd.DataFrame([b1, b3, b2, b2], index=[a2, a3, a4, a1], columns=[\"2일차\"])"
   ]
  },
  {
   "cell_type": "code",
   "execution_count": null,
   "metadata": {},
   "outputs": [],
   "source": [
    "# 엑셀파일사용시 (반드시 엑셀파일 다운받아서 파이썬 파일 폴더에 넣어야함)\n",
    "import pandas as pd\n",
    "df1 = pd.read_excel(\"E18EXAMPLE.xlsx\")\n",
    "\n",
    "\n",
    "# csv파일 사용시 (특별한 다운로드가 필요없음)\n",
    "import pandas as pd\n",
    "df1 = pd.read_csv(\"https://raw.githubusercontent.com/panda-kim\"\n",
    "                  \"/pandas/main/merge01.csv\")"
   ]
  },
  {
   "cell_type": "code",
   "execution_count": null,
   "metadata": {},
   "outputs": [],
   "source": [
    "import pandas as pd\n",
    "\n",
    "#변수 지정\n",
    "df1 = pd.read_excel(\"E18EXAMPLE.xlsx\")\n",
    "\n",
    "df2 = df1.value_counts([\"학년\", \"반\"]) # 반인원 얻기\n",
    "df2 = df2.reset_index() # value_counts의 결과물인 시리즈를 데이터프레임으로\n",
    "df2 = df2.rename(columns={0:\"반인원\"}) # columns 이름 바꾸기\n",
    "\n",
    "df3 = df1.merge(df2, how='left') # vlookup 방식으로 병합\n",
    "df3.to_clipboard(index=False) # 클립보드에 복사"
   ]
  },
  {
   "cell_type": "markdown",
   "metadata": {},
   "source": [
    "##### 순위매기기 rank"
   ]
  },
  {
   "cell_type": "code",
   "execution_count": null,
   "metadata": {},
   "outputs": [],
   "source": [
    "# 엑셀파일사용시 (반드시 엑셀파일 다운받아서 파이썬 파일 폴더에 넣어야함)\n",
    "import pandas as pd\n",
    "df1 = pd.read_excel(\"E19EXAMPLE.xlsx\")\n",
    "df = pd.DataFrame([[90,\"A\"],[80, \"B\"], [70, \"C\"], [0, \"D\"]], \n",
    "                  columns=[\"점수\", \"학점\"]).sort_values(\"점수\")\n",
    "\n",
    "\n",
    "# csv파일 사용시 (특별한 다운로드가 필요없음)\n",
    "import pandas as pd\n",
    "df1 = pd.read_csv(\"https://raw.githubusercontent.com/panda-kim\"\n",
    "                 \"/pandas/main/rank%26merge_asof01.csv\")\n",
    "df = pd.DataFrame([[90,\"A\"],[80, \"B\"], [70, \"C\"], [0, \"D\"]], \n",
    "                  columns=[\"점수\", \"학점\"]).sort_values(\"점수\")"
   ]
  },
  {
   "cell_type": "code",
   "execution_count": null,
   "metadata": {},
   "outputs": [],
   "source": [
    "import pandas as pd\n",
    "\n",
    "# 변수지정\n",
    "df1 = pd.read_excel(\"E19EXAMPLE.xlsx\")\n",
    "df = pd.DataFrame([[90,\"A\"],[80, \"B\"], [70, \"C\"], [0, \"D\"]], \n",
    "                  columns=[\"점수\", \"학점\"]).sort_values(\"점수\")\n",
    "\n",
    "# 등수매기기(내림차순, 동점자처리는 min)\n",
    "df1[\"등수\"] = df1[\"점수\"].rank(ascending=False, method=\"min\")\n",
    "\n",
    "# 학점부여(근사값 VLOOKUP방식으로)\n",
    "df2 = df1.sort_values(\"점수\")\n",
    "df2 = pd.merge_asof(df2, df)\n",
    "\n",
    "# 초기상태로 정렬 및 클립보드 복사\n",
    "df1.merge(df2, how=\"left\").to_clipboard(index=False)"
   ]
  },
  {
   "cell_type": "markdown",
   "metadata": {},
   "source": [
    "##### 함수적용하기 apply"
   ]
  },
  {
   "cell_type": "code",
   "execution_count": null,
   "metadata": {},
   "outputs": [],
   "source": [
    "import pandas as pd\n",
    "\n",
    "# 변수지정\n",
    "df = pd.read_excel(\"E20EXAMPLE.xlsx\") # 엑셀파일 사용시 (다운로드 필요)\n",
    "df = pd.read_csv(\"https://raw.githubusercontent.com/panda-kim/\"\n",
    "                 \"pandas/main/apply01.csv\") # csv파일 사용시(별도의 다운로드 필요없음)\n",
    "\n",
    "# 나이대를 반환하는 함수정의\n",
    "def age_class(x):\n",
    "    if 20 <= x <30:\n",
    "        return \"20대\"\n",
    "    if 30 <= x <40:\n",
    "        return \"30대\"\n",
    "    if 40 <= x <50:\n",
    "        return \"40대\"\n",
    "\n",
    "# 정의된 함수 age_class로 분류1열 만들기\n",
    "df[\"분류1\"] = df[\"나이\"].apply(age_class) \n",
    "# lambda로 분류1열 만들기\n",
    "df[\"분류1\"] = df[\"나이\"].apply(lambda x:str((x // 10)*10) + \"대\") \n",
    "\n",
    "# 데이터프레임에 lambda로 분류2열 만들기\n",
    "df[\"분류2\"] = df.apply(lambda x:str((x[\"나이\"]//10)*10) + x[\"성별\"][0], axis=1)\n",
    "\n",
    "# 클립보드에 엑셀파일에 붙혀넣기\n",
    "df.to_clipboard(index=False)"
   ]
  },
  {
   "cell_type": "markdown",
   "metadata": {},
   "source": [
    "##### groupby 마트매출데이터를 일별집계하기"
   ]
  },
  {
   "cell_type": "code",
   "execution_count": null,
   "metadata": {},
   "outputs": [],
   "source": [
    "import pandas as pd\n",
    "\n",
    "# 변수지정 코드\n",
    "# 엑셀파일 (다운로드필요)\n",
    "df = pd.read_excel(\"E21EXAMPLE.xlsx\")\n",
    "\n",
    "# csv파일 (링크로 해결되서 다운로드 불필요)\n",
    "df = pd.read_csv(\"https://raw.githubusercontent.com/panda-kim/pandas/main/groupby01.csv\")\n",
    "\n",
    "\n",
    "# groupby로 일자별 제품당 수량 및 매출집계하기\n",
    "df1 = df.groupby([\"매출일자\", \"상품명\"])[[\"수량\", \"판매금액\"]].agg(\"sum\").reset_index()\n",
    "df1.to_clipboard(index=False)"
   ]
  }
 ],
 "metadata": {
  "interpreter": {
   "hash": "9efce205f64ad363cd9f14615485aca38ee4ef0915866e318aa83c8d0c93f6fc"
  },
  "kernelspec": {
   "display_name": "Python 3 (ipykernel)",
   "language": "python",
   "name": "python3"
  },
  "language_info": {
   "codemirror_mode": {
    "name": "ipython",
    "version": 3
   },
   "file_extension": ".py",
   "mimetype": "text/x-python",
   "name": "python",
   "nbconvert_exporter": "python",
   "pygments_lexer": "ipython3",
   "version": "3.10.4"
  }
 },
 "nbformat": 4,
 "nbformat_minor": 2
}
