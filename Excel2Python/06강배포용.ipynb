{
 "cells": [
  {
   "cell_type": "markdown",
   "id": "6578d002",
   "metadata": {},
   "source": [
    "# 엑셀 읽어오기 : read_excel()"
   ]
  },
  {
   "cell_type": "code",
   "execution_count": null,
   "id": "be2b3297",
   "metadata": {},
   "outputs": [],
   "source": []
  },
  {
   "cell_type": "markdown",
   "id": "4904c94b",
   "metadata": {},
   "source": [
    "# 엑셀의 if기능 : mask"
   ]
  },
  {
   "cell_type": "code",
   "execution_count": null,
   "id": "c18d1cf1",
   "metadata": {},
   "outputs": [],
   "source": []
  },
  {
   "cell_type": "markdown",
   "id": "319ca657",
   "metadata": {},
   "source": [
    "# 엑셀의 다중if : 다중mask"
   ]
  },
  {
   "cell_type": "code",
   "execution_count": null,
   "id": "b1818b15",
   "metadata": {},
   "outputs": [],
   "source": []
  },
  {
   "cell_type": "markdown",
   "id": "67bbdd6e",
   "metadata": {},
   "source": [
    "# 클립보드에 복사 : to_clipboard()"
   ]
  },
  {
   "cell_type": "code",
   "execution_count": null,
   "id": "8030e8cd",
   "metadata": {},
   "outputs": [],
   "source": []
  },
  {
   "cell_type": "markdown",
   "id": "65a1ad6f",
   "metadata": {},
   "source": [
    "# 전체코드"
   ]
  },
  {
   "cell_type": "code",
   "execution_count": 25,
   "id": "fe7aefc2",
   "metadata": {},
   "outputs": [],
   "source": [
    "import pandas as pd \n",
    "\n",
    "df1 = pd.read_excel(\"E06EXAMPLE.xlsx\", sheet_name=1)\n",
    "cond1 = df1[\"점수\"].isnull()\n",
    "df1[\"참석여부\"] = df1[\"점수\"].mask(cond1, \"X\").mask(~cond1, \"O\")\n",
    "cond2 = df1[\"점수\"] > 70\n",
    "cond3 = df1[\"점수\"] > 90\n",
    "df1[\"성적\"] = df1[\"점수\"].mask(~cond2, \"C\").mask(cond2, \"B\").mask(cond3, \"A\")\n",
    "df1.to_clipboard(index=False)"
   ]
  }
 ],
 "metadata": {
  "kernelspec": {
   "display_name": "Python 3",
   "language": "python",
   "name": "python3"
  },
  "language_info": {
   "codemirror_mode": {
    "name": "ipython",
    "version": 3
   },
   "file_extension": ".py",
   "mimetype": "text/x-python",
   "name": "python",
   "nbconvert_exporter": "python",
   "pygments_lexer": "ipython3",
   "version": "3.8.8"
  },
  "toc": {
   "base_numbering": 1,
   "nav_menu": {},
   "number_sections": true,
   "sideBar": true,
   "skip_h1_title": false,
   "title_cell": "Table of Contents",
   "title_sidebar": "엑셀의if_mask",
   "toc_cell": false,
   "toc_position": {
    "height": "757px",
    "left": "90px",
    "top": "110px",
    "width": "357px"
   },
   "toc_section_display": true,
   "toc_window_display": true
  }
 },
 "nbformat": 4,
 "nbformat_minor": 5
}
