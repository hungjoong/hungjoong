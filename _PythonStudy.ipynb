{
 "cells": [
  {
   "cell_type": "markdown",
   "metadata": {
    "id": "3Dx9QIoT9B3U"
   },
   "source": [
    "## 파이썬 반복문(for)으로 딕셔너리(dict) 요소를 다루기"
   ]
  },
  {
   "cell_type": "code",
   "execution_count": null,
   "metadata": {
    "id": "OTpElZzR8mx3"
   },
   "outputs": [],
   "source": [
    "ticker = {'JNJ': 'Johnson & Johnson', 'MCD': \"McDonald's Corporation\", 'PFE': 'Pfizer Inc.',\n",
    " 'PG': 'The Procter & Gamble Company', 'HD': 'The Home Depot, Inc.', 'MSFT': 'Microsoft Corporation',\n",
    " 'NKE': 'NIKE, Inc.', 'VZ': 'Verizon Communications Inc.', 'BA': 'The Boeing Company',\n",
    " 'WMT': 'Walmart Inc.', 'UNH': 'UnitedHealth Group Incorporated', 'V': 'Visa Inc.',\n",
    " 'MRK': 'Merck & Co., Inc.', 'DOW': 'Dow Inc.', 'XOM': 'Exxon Mobil Corporation',\n",
    " 'AAPL': 'Apple Inc.', 'JPM': 'JPMorgan Chase & Co.', 'CSCO': 'Cisco Systems, Inc.',\n",
    " 'IBM': 'International Business Machines Corporation', 'KO': 'The Coca-Cola Company', 'CVX': 'Chevron Corporation',\n",
    " 'MMM': '3M Company', 'INTC': 'Intel Corporation', 'CAT': 'Caterpillar Inc.',\n",
    " 'GS': 'The Goldman Sachs Group, Inc.', 'DIS': 'The Walt Disney Company', 'TRV': 'The Travelers Companies, Inc.',\n",
    " 'RTX': 'Raytheon Technologies Corporation', 'WBA': 'Walgreens Boots Alliance, Inc.', 'AXP': 'American Express Company'}"
   ]
  },
  {
   "cell_type": "code",
   "execution_count": null,
   "metadata": {
    "id": "5_z3rg6F9G7R"
   },
   "outputs": [],
   "source": [
    "# 키(key)를 활용하는 경우 \n",
    "# 딕셔너리의 키를 반목 문에서 사용할 때는 다음과 같이 두 가지 방법이 가능합니다.\n",
    "# .keys() 함수를 사용해서 명시적으로 dcit_keys 객체를 반환받아서 사용하는 방법\n",
    "for i in ticker.keys():\n",
    "    print(i)"
   ]
  },
  {
   "cell_type": "code",
   "execution_count": null,
   "metadata": {
    "id": "9ugxEBKg9NFx"
   },
   "outputs": [],
   "source": [
    "# 딕셔너리 그대로 사용하는 방법\n",
    "for i in ticker:\n",
    "    print(i)"
   ]
  },
  {
   "cell_type": "code",
   "execution_count": null,
   "metadata": {
    "id": "soR0dwhT969_"
   },
   "outputs": [],
   "source": [
    "# 값(value)을 활용하는 경우 \n",
    "# values() 함수를 사용해서 dict_values 객체를 반환받아서 사용합니다.\n",
    "for i in ticker.values():\n",
    "    print(i)"
   ]
  },
  {
   "cell_type": "code",
   "execution_count": null,
   "metadata": {
    "id": "udSiO0vP-EZn"
   },
   "outputs": [],
   "source": [
    "# 키(key)와 값(value) 모두 활용하는 경우 \n",
    "# items() 함수를 이용하면 키와 값의 쌍을 모두 이용할 수 있습니다.\n",
    "for i, j in ticker.items():\n",
    "    print(f\"{i}: {j}\")"
   ]
  },
  {
   "cell_type": "markdown",
   "metadata": {
    "id": "QEKnRY4F-cJu"
   },
   "source": [
    "## 파이썬 리스트(list) 안에 문자 대문자, 소문자로 바꾸기\n",
    "문자열로 이루어진 리스트 안에 문자를 모두 대문자, 소문자 또는 첫 글자만 대문자로 바꾸고 싶다면, 반복문과 문자열 함수를 함께 이용하면 손쉽게 처리할 수 있습니다.\n",
    "알아야 하는 문자열 함수는 세 가지 정도입니다.\n",
    "\n",
    "- upper() \n",
    "upper 함수는 소문자를 대문자로 바꾸어 줍니다. 이미 대문자라면 원래 문자열을 반환합니다.\n",
    "- lower() \n",
    "lower 함수는 대문자를 소문자로 바꾸어 줍니다. 이미 소문자라면 원래 문자열을 반환합니다.\n",
    "- capitalize() \n",
    "capitalize 함수는 문자열의 첫 문자를 대문자로 바꾸어 줍니다. 문자열의 첫 문자가 이미 대문자라면 원래 문자열을 반환합니다."
   ]
  },
  {
   "cell_type": "code",
   "execution_count": null,
   "metadata": {
    "colab": {
     "base_uri": "https://localhost:8080/"
    },
    "executionInfo": {
     "elapsed": 352,
     "status": "ok",
     "timestamp": 1629251916835,
     "user": {
      "displayName": "김흥중",
      "photoUrl": "https://lh3.googleusercontent.com/a-/AOh14GgvOxCHkryGVlZI4L_etMcHh1YeD6_ld365TwI47yU=s64",
      "userId": "04380006385771757274"
     },
     "user_tz": -540
    },
    "id": "jXL0fGC_-ObI",
    "outputId": "f3551541-ed1e-4e55-cbd4-9a6e16eef6b0"
   },
   "outputs": [],
   "source": [
    "text = \"python is easy\"\n",
    "print(text.upper())"
   ]
  },
  {
   "cell_type": "code",
   "execution_count": null,
   "metadata": {
    "colab": {
     "base_uri": "https://localhost:8080/"
    },
    "executionInfo": {
     "elapsed": 370,
     "status": "ok",
     "timestamp": 1629251928698,
     "user": {
      "displayName": "김흥중",
      "photoUrl": "https://lh3.googleusercontent.com/a-/AOh14GgvOxCHkryGVlZI4L_etMcHh1YeD6_ld365TwI47yU=s64",
      "userId": "04380006385771757274"
     },
     "user_tz": -540
    },
    "id": "YVP5pO8n-1Cx",
    "outputId": "60665e60-e037-43e9-f5dd-36e50148ed0c"
   },
   "outputs": [],
   "source": [
    "text = \"PYTHON IS EASY\"\n",
    "print(text.lower())"
   ]
  },
  {
   "cell_type": "code",
   "execution_count": null,
   "metadata": {
    "colab": {
     "base_uri": "https://localhost:8080/"
    },
    "executionInfo": {
     "elapsed": 346,
     "status": "ok",
     "timestamp": 1629251947829,
     "user": {
      "displayName": "김흥중",
      "photoUrl": "https://lh3.googleusercontent.com/a-/AOh14GgvOxCHkryGVlZI4L_etMcHh1YeD6_ld365TwI47yU=s64",
      "userId": "04380006385771757274"
     },
     "user_tz": -540
    },
    "id": "OnnbSgNy-38I",
    "outputId": "28a55942-9a40-4ae3-a315-bcf2111db5f1"
   },
   "outputs": [],
   "source": [
    "text = \"python is easy\"\n",
    "print(text.capitalize())"
   ]
  },
  {
   "cell_type": "code",
   "execution_count": null,
   "metadata": {
    "colab": {
     "base_uri": "https://localhost:8080/"
    },
    "executionInfo": {
     "elapsed": 417,
     "status": "ok",
     "timestamp": 1629252018963,
     "user": {
      "displayName": "김흥중",
      "photoUrl": "https://lh3.googleusercontent.com/a-/AOh14GgvOxCHkryGVlZI4L_etMcHh1YeD6_ld365TwI47yU=s64",
      "userId": "04380006385771757274"
     },
     "user_tz": -540
    },
    "id": "OQAAbEas-8nY",
    "outputId": "70136018-6ac9-41e6-c566-28bade8fd792"
   },
   "outputs": [],
   "source": [
    "# 이제 반복문을 이용해서 리스트 안에 요소들을 순회하며 차례대로 문자열 함수들을 적용시키면 됩니다. 예를 들어 아래와 같은 리스트가 있습니다.\n",
    "c = ['ticker', 'company name', 'price', 'dividend yield']\n",
    "\n",
    "# 결과를 저장할 빈 리스트를 만들고 각각의 요소에 대한 함수 결과를 저장합니다.\n",
    "c_upper = []\n",
    "for i in c:\n",
    "    c_upper.append(i.upper())\n",
    "    \n",
    "print(c_upper)"
   ]
  },
  {
   "cell_type": "code",
   "execution_count": null,
   "metadata": {
    "colab": {
     "base_uri": "https://localhost:8080/"
    },
    "executionInfo": {
     "elapsed": 348,
     "status": "ok",
     "timestamp": 1629252047956,
     "user": {
      "displayName": "김흥중",
      "photoUrl": "https://lh3.googleusercontent.com/a-/AOh14GgvOxCHkryGVlZI4L_etMcHh1YeD6_ld365TwI47yU=s64",
      "userId": "04380006385771757274"
     },
     "user_tz": -540
    },
    "id": "kQE0jIjG_N9o",
    "outputId": "0f0ff549-d7a9-4744-b924-fcfe24d0d098"
   },
   "outputs": [],
   "source": [
    "# 만약 리스트 컴프리핸션을 알고 있다면 더 쉽게 한 줄로도 가능합니다.\n",
    "c_capitalize = [i.capitalize() for i in c]\n",
    "print(c_capitalize)"
   ]
  },
  {
   "cell_type": "markdown",
   "metadata": {
    "id": "3VsGLY3TBqSe"
   },
   "source": [
    "## 파이썬 리스트 컴프리핸션(List Comprehension)\n",
    "파이썬에는 리스트를 한 줄의 코드로 손쉽게 만들 수 있는 list comprehension이라는 문법이 있습니다. 기존의 반복 가능한 객체를 활용해서 새로운 리스트를 만들고 싶을 때 유용합니다. 예를 들어 range를 이용하여 1부터 10까지의 숫자가 담긴 리스트를 만들어 보겠습니다. ① for문을 사용하는 경우, ② 리스트 컴프리핸션을 사용하는 경우입니다.\n",
    "\n",
    "- for문을 사용해서 리스트를 만들기 \n",
    "for문을 이용해 새로운 리스트를 만든다면 다음과 같은 과정이 필요합니다.\n",
    "빈 리스트를 생성한다.-\n",
    "iterable 한 객체의 요소를 반복한다.-\n",
    "빈 리스트에 결과를 추가한다.\n",
    "\n",
    "- list comprehension을 이용해서 리스트 만들기 \n",
    "리스트 컴프리핸션으로는 단 한 줄의 코드로 손쉽게 만들 수 있습니다."
   ]
  },
  {
   "cell_type": "code",
   "execution_count": null,
   "metadata": {
    "colab": {
     "base_uri": "https://localhost:8080/"
    },
    "executionInfo": {
     "elapsed": 349,
     "status": "ok",
     "timestamp": 1629252794884,
     "user": {
      "displayName": "김흥중",
      "photoUrl": "https://lh3.googleusercontent.com/a-/AOh14GgvOxCHkryGVlZI4L_etMcHh1YeD6_ld365TwI47yU=s64",
      "userId": "04380006385771757274"
     },
     "user_tz": -540
    },
    "id": "aS6jX3yVCF9E",
    "outputId": "1232cf99-93ac-4113-a1bd-7d35393a2650"
   },
   "outputs": [],
   "source": [
    "# for문을 사용해서 리스트를 만들기\n",
    "\n",
    "numbers = []\n",
    "for i in range(1,11):\n",
    "  numbers.append(i)\n",
    "\n",
    "print(numbers)"
   ]
  },
  {
   "cell_type": "code",
   "execution_count": null,
   "metadata": {
    "colab": {
     "base_uri": "https://localhost:8080/"
    },
    "executionInfo": {
     "elapsed": 338,
     "status": "ok",
     "timestamp": 1629252826175,
     "user": {
      "displayName": "김흥중",
      "photoUrl": "https://lh3.googleusercontent.com/a-/AOh14GgvOxCHkryGVlZI4L_etMcHh1YeD6_ld365TwI47yU=s64",
      "userId": "04380006385771757274"
     },
     "user_tz": -540
    },
    "id": "E5LSxLVRCLak",
    "outputId": "64fec323-d2e0-472f-ef20-828677b15082"
   },
   "outputs": [],
   "source": [
    "# list comprehension을 이용해서 리스트 만들기 \n",
    "# 리스트 컴프리핸션으로는 단 한 줄의 코드로 손쉽게 만들 수 있습니다.\n",
    "\n",
    "# list comprehension 문법\n",
    "# 가장 기본적인 형태 : [expression for element in iterable]\n",
    "# 조건문이 추가된 형태 : [expression for element in iterable if condition]\n",
    "\n",
    "numbers = [i for i in range(1,11)]\n",
    "print(numbers)"
   ]
  },
  {
   "cell_type": "code",
   "execution_count": null,
   "metadata": {
    "colab": {
     "base_uri": "https://localhost:8080/"
    },
    "executionInfo": {
     "elapsed": 360,
     "status": "ok",
     "timestamp": 1629252891704,
     "user": {
      "displayName": "김흥중",
      "photoUrl": "https://lh3.googleusercontent.com/a-/AOh14GgvOxCHkryGVlZI4L_etMcHh1YeD6_ld365TwI47yU=s64",
      "userId": "04380006385771757274"
     },
     "user_tz": -540
    },
    "id": "TCqTA-BBCTDf",
    "outputId": "de260387-91c5-4851-a5c5-1ee517c7195e"
   },
   "outputs": [],
   "source": [
    "# 조건문이 추가된 list comprehension \n",
    "# 조건문을 추가하여 특정 값들만 리스트에 담을 수도 있습니다. 위의 예제를 약간 변형하여 1부터 10까지 숫자에서 홀수만 담은 리스를 만들어 보겠습니다.\n",
    "\n",
    "numbers = [i for i in range(1,11) if i%2 == 1]\n",
    "print(numbers)"
   ]
  },
  {
   "cell_type": "code",
   "execution_count": null,
   "metadata": {
    "id": "6KvDEQpLTAxu"
   },
   "outputs": [],
   "source": [
    "# while 문\n",
    "\n",
    "num = 1\n",
    "while num <= 100:\n",
    "    print(num)\n",
    "    num = num + 1\n"
   ]
  },
  {
   "cell_type": "code",
   "execution_count": null,
   "metadata": {
    "id": "ZIx6PdviTnfh"
   },
   "outputs": [],
   "source": [
    "# input()으로 사용자로부터 정수를 한 개 입력받아, 그 숫자를 숫자 크기만큼 반복해서 출력하는 파이썬 스크립트를 작성하세요.\n",
    "\n",
    "num = int(input())\n",
    "\n",
    "i = 0\n",
    "while i < num:\n",
    "    print(num)\n",
    "    i += 1\n"
   ]
  },
  {
   "cell_type": "code",
   "execution_count": null,
   "metadata": {
    "id": "i9CiNvoJUiRV"
   },
   "outputs": [],
   "source": [
    "# 정수를 한 개 입력받아, 1부터 입력받은 수까지 각각에 대해 제곱을 구해 프린트하는 프로그램을 작성해 보세요.\n",
    "\n",
    "num = int(input())\n",
    "\n",
    "i = 1\n",
    "while i <= num:\n",
    "    print(i, i*i)\n",
    "    i += 1\n"
   ]
  }
 ],
 "metadata": {
  "colab": {
   "collapsed_sections": [],
   "name": "_PythonStudy.ipynb",
   "provenance": []
  },
  "kernelspec": {
   "display_name": "Python 3 (ipykernel)",
   "language": "python",
   "name": "python3"
  },
  "language_info": {
   "codemirror_mode": {
    "name": "ipython",
    "version": 3
   },
   "file_extension": ".py",
   "mimetype": "text/x-python",
   "name": "python",
   "nbconvert_exporter": "python",
   "pygments_lexer": "ipython3",
   "version": "3.10.4"
  }
 },
 "nbformat": 4,
 "nbformat_minor": 1
}
