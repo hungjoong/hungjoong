{
 "cells": [
  {
   "cell_type": "code",
   "execution_count": null,
   "id": "5e018322",
   "metadata": {},
   "outputs": [],
   "source": [
    "import pandas as pd\n",
    "import os"
   ]
  },
  {
   "cell_type": "code",
   "execution_count": null,
   "id": "0990edf2",
   "metadata": {},
   "outputs": [],
   "source": [
    "df1=pd.read_excel(\"Example Data/CC02_CC01.xls\", skiprows = 4)\n",
    "df1 = df1.drop(['Pos', 'Order no.'], axis = 1)\n",
    "df1 = df1[['designation', 'Part no.', 'Manufacturer', 'Quantity']]\n",
    "df1 = df1.rename(columns={'Quantity':'CC02_CC01'})\n",
    "df1"
   ]
  },
  {
   "cell_type": "code",
   "execution_count": null,
   "id": "ce8b71b3",
   "metadata": {},
   "outputs": [],
   "source": [
    "df2=pd.read_excel(\"Example Data/CC02_DP01.xls\", skiprows = 4)\n",
    "df2 = df2.drop(['Pos', 'Order no.'], axis = 1)\n",
    "df2 = df2[['designation', 'Part no.', 'Manufacturer', 'Quantity']]\n",
    "df2 = df2.rename(columns={'Quantity':'CC02_DP01'})\n",
    "df2"
   ]
  },
  {
   "cell_type": "code",
   "execution_count": null,
   "id": "f111d02e",
   "metadata": {
    "scrolled": true
   },
   "outputs": [],
   "source": [
    "from pathlib import Path\n",
    "\n",
    "os.listdir(\"C:/Users/HJ.Kim/OneDrive/PythonWorkspace/Example Data\")\n",
    "file_name = Path(\"C:/Users/HJ.Kim/OneDrive/PythonWorkspace/Example Data/CC01_CC01.xlsx\").stem\n",
    "file_name"
   ]
  },
  {
   "cell_type": "code",
   "execution_count": null,
   "id": "9b0360a8",
   "metadata": {},
   "outputs": [],
   "source": [
    "df1 = df1.merge(df2, how=\"outer\")\n",
    "df1"
   ]
  },
  {
   "cell_type": "code",
   "execution_count": null,
   "id": "5d554888",
   "metadata": {},
   "outputs": [],
   "source": [
    "import glob\n",
    "\n",
    "file_format = \".xls\" # .csv\n",
    "file_path = \"C:/Users/HJ.Kim/OneDrive/PythonWorkspace/Example Data\"\n",
    "file_list = glob.glob(f\"{file_path}/*{file_format}\")\n",
    "file_list"
   ]
  },
  {
   "cell_type": "markdown",
   "id": "8bd7c7d1",
   "metadata": {},
   "source": [
    "##### 액셀파일 합치기 \n",
    "- Eplan BOM Export File을 하나의 Excel 파일로 컬럼으로 구분하여 저장"
   ]
  },
  {
   "cell_type": "code",
   "execution_count": null,
   "id": "f0d3a456",
   "metadata": {},
   "outputs": [],
   "source": [
    "import pandas as pd\n",
    "import glob\n",
    "import os\n",
    "from pathlib import Path\n",
    "\n",
    "file_path=\"C:/Users/HJ.Kim/OneDrive/PythonWorkspace/Example Data\"\n",
    "file_format=\".xls\"\n",
    "save_path=\"C:/Users/HJ.Kim/OneDrive/PythonWorkspace/ExcelMerge.xlsx\"\n",
    "save_format=\".xls\"\n",
    "\n",
    "merge_df = pd.DataFrame(columns=['designation', 'Part no.', 'Manufacturer'])\n",
    "\n",
    "file_list = file_list = [f\"{file_path}/{file}\" for file in os.listdir(file_path) if file_format in file]\n",
    "\n",
    "for file in file_list:\n",
    "    file_df = pd.read_excel(file, skiprows = 4)\n",
    "    file_df = file_df.drop(['Pos', 'Order no.'], axis = 1)\n",
    "    file_df = file_df[['designation', 'Part no.', 'Manufacturer', 'Quantity']]\n",
    "    file_name = Path(file).stem\n",
    "    file_df = file_df.rename(columns={'Quantity':file_name})\n",
    "    merge_df = merge_df.merge(file_df, how=\"outer\")\n",
    "\n",
    "merge_df.insert(3, 'Total', 0)\n",
    "merge_df['Total'] = merge_df.iloc[:,4:].sum(axis=1)\n",
    "merge_df = merge_df.sort_values(by=['Manufacturer', 'Part no.'] ,ascending=True)\n",
    "# merge_df.to_excel(save_path, index=False)\n",
    "merge_df.reset_index(drop=True)"
   ]
  }
 ],
 "metadata": {
  "kernelspec": {
   "display_name": "Python 3 (ipykernel)",
   "language": "python",
   "name": "python3"
  },
  "language_info": {
   "codemirror_mode": {
    "name": "ipython",
    "version": 3
   },
   "file_extension": ".py",
   "mimetype": "text/x-python",
   "name": "python",
   "nbconvert_exporter": "python",
   "pygments_lexer": "ipython3",
   "version": "3.10.4"
  }
 },
 "nbformat": 4,
 "nbformat_minor": 5
}
